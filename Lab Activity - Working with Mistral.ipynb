{
 "cells": [
  {
   "cell_type": "markdown",
   "id": "6df4b582",
   "metadata": {},
   "source": [
    "# Lab Activity - Working with Mistral"
   ]
  },
  {
   "cell_type": "markdown",
   "id": "c2c83406",
   "metadata": {},
   "source": [
    "### Tasneem Al Sheikh - 60104251"
   ]
  },
  {
   "cell_type": "markdown",
   "id": "9d295408",
   "metadata": {},
   "source": [
    "_________________________"
   ]
  },
  {
   "cell_type": "code",
   "execution_count": 1,
   "id": "b4375028",
   "metadata": {
    "scrolled": true
   },
   "outputs": [
    {
     "name": "stdout",
     "output_type": "stream",
     "text": [
      "Defaulting to user installation because normal site-packages is not writeable\n",
      "Requirement already satisfied: mistralai in c:\\users\\60104251\\appdata\\roaming\\python\\python312\\site-packages (1.5.0)\n",
      "Requirement already satisfied: eval-type-backport>=0.2.0 in c:\\users\\60104251\\appdata\\roaming\\python\\python312\\site-packages (from mistralai) (0.2.2)\n",
      "Requirement already satisfied: httpx>=0.27.0 in c:\\users\\60104251\\appdata\\roaming\\python\\python312\\site-packages (from mistralai) (0.28.1)\n",
      "Requirement already satisfied: jsonpath-python>=1.0.6 in c:\\users\\60104251\\appdata\\roaming\\python\\python312\\site-packages (from mistralai) (1.0.6)\n",
      "Requirement already satisfied: pydantic>=2.9.0 in c:\\users\\60104251\\appdata\\roaming\\python\\python312\\site-packages (from mistralai) (2.10.6)\n",
      "Requirement already satisfied: python-dateutil>=2.8.2 in c:\\users\\60104251\\appdata\\roaming\\python\\python312\\site-packages (from mistralai) (2.9.0.post0)\n",
      "Requirement already satisfied: typing-inspect>=0.9.0 in c:\\users\\60104251\\appdata\\roaming\\python\\python312\\site-packages (from mistralai) (0.9.0)\n",
      "Requirement already satisfied: anyio in c:\\users\\60104251\\appdata\\roaming\\python\\python312\\site-packages (from httpx>=0.27.0->mistralai) (4.8.0)\n",
      "Requirement already satisfied: certifi in c:\\users\\60104251\\appdata\\roaming\\python\\python312\\site-packages (from httpx>=0.27.0->mistralai) (2025.1.31)\n",
      "Requirement already satisfied: httpcore==1.* in c:\\users\\60104251\\appdata\\roaming\\python\\python312\\site-packages (from httpx>=0.27.0->mistralai) (1.0.7)\n",
      "Requirement already satisfied: idna in c:\\users\\60104251\\appdata\\roaming\\python\\python312\\site-packages (from httpx>=0.27.0->mistralai) (3.10)\n",
      "Requirement already satisfied: h11<0.15,>=0.13 in c:\\users\\60104251\\appdata\\roaming\\python\\python312\\site-packages (from httpcore==1.*->httpx>=0.27.0->mistralai) (0.14.0)\n",
      "Requirement already satisfied: annotated-types>=0.6.0 in c:\\users\\60104251\\appdata\\roaming\\python\\python312\\site-packages (from pydantic>=2.9.0->mistralai) (0.7.0)\n",
      "Requirement already satisfied: pydantic-core==2.27.2 in c:\\users\\60104251\\appdata\\roaming\\python\\python312\\site-packages (from pydantic>=2.9.0->mistralai) (2.27.2)\n",
      "Requirement already satisfied: typing-extensions>=4.12.2 in c:\\users\\60104251\\appdata\\roaming\\python\\python312\\site-packages (from pydantic>=2.9.0->mistralai) (4.12.2)\n",
      "Requirement already satisfied: six>=1.5 in c:\\users\\60104251\\appdata\\roaming\\python\\python312\\site-packages (from python-dateutil>=2.8.2->mistralai) (1.17.0)\n",
      "Requirement already satisfied: mypy-extensions>=0.3.0 in c:\\users\\60104251\\appdata\\roaming\\python\\python312\\site-packages (from typing-inspect>=0.9.0->mistralai) (1.0.0)\n",
      "Requirement already satisfied: sniffio>=1.1 in c:\\users\\60104251\\appdata\\roaming\\python\\python312\\site-packages (from anyio->httpx>=0.27.0->mistralai) (1.3.1)\n",
      "Note: you may need to restart the kernel to use updated packages.\n"
     ]
    },
    {
     "name": "stderr",
     "output_type": "stream",
     "text": [
      "\n",
      "[notice] A new release of pip is available: 23.2.1 -> 25.0.1\n",
      "[notice] To update, run: python.exe -m pip install --upgrade pip\n"
     ]
    }
   ],
   "source": [
    "pip install mistralai"
   ]
  },
  {
   "cell_type": "code",
   "execution_count": 2,
   "id": "27873d5c",
   "metadata": {},
   "outputs": [
    {
     "name": "stdout",
     "output_type": "stream",
     "text": [
      "Defaulting to user installation because normal site-packages is not writeable\n",
      "Note: you may need to restart the kernel to use updated packages.\n"
     ]
    },
    {
     "name": "stderr",
     "output_type": "stream",
     "text": [
      "ERROR: Could not open requirements file: [Errno 2] No such file or directory: 'requirements.txt'\n",
      "\n",
      "[notice] A new release of pip is available: 23.2.1 -> 25.0.1\n",
      "[notice] To update, run: python.exe -m pip install --upgrade pip\n"
     ]
    }
   ],
   "source": [
    "pip install -r requirements.txt"
   ]
  },
  {
   "cell_type": "markdown",
   "id": "573843a3",
   "metadata": {},
   "source": [
    "## Load API key and helper function"
   ]
  },
  {
   "cell_type": "code",
   "execution_count": 3,
   "id": "aa6dbee8",
   "metadata": {},
   "outputs": [
    {
     "name": "stdout",
     "output_type": "stream",
     "text": [
      "MISTRAL_API_KEY: CZ54uDhpNVIrfJTvnjflHs4LuiSU4XHr\n"
     ]
    }
   ],
   "source": [
    "import os\n",
    "os.environ[\"MISTRAL_API_KEY\"]=\"CZ54uDhpNVIrfJTvnjflHs4LuiSU4XHr\"\n",
    "print(f\"MISTRAL_API_KEY: {os.environ.get('MISTRAL_API_KEY')}\")"
   ]
  },
  {
   "cell_type": "code",
   "execution_count": 4,
   "id": "4c960470",
   "metadata": {},
   "outputs": [],
   "source": [
    "api_key = os.getenv(\"MISTRAL_API_KEY\")"
   ]
  },
  {
   "cell_type": "code",
   "execution_count": 5,
   "id": "c0e8e09b",
   "metadata": {},
   "outputs": [],
   "source": [
    "import os\n",
    "from mistralai import Mistral, UserMessage\n",
    "def mistral(user_message, model=\"mistral-small-latest\", is_json=False):\n",
    "    model = \"mistral-large-latest\"\n",
    "    client = Mistral(api_key=api_key)\n",
    "    messages = [\n",
    "    UserMessage(content=user_message),\n",
    "    ]\n",
    "    \n",
    "    chat_response = client.chat.complete(\n",
    "    model=model,\n",
    "    messages=messages,\n",
    "    )\n",
    "    return chat_response.choices[0].message.content"
   ]
  },
  {
   "cell_type": "code",
   "execution_count": 6,
   "id": "757bbe82",
   "metadata": {},
   "outputs": [
    {
     "data": {
      "text/plain": [
       "'Hello! I can help with a wide range of tasks and provide information on various topics. Here are some things I can do:\\n\\n1. **Answer Questions**: I can provide information on a broad array of subjects, including science, history, technology, and more.\\n2. **Explain Concepts**: I can help clarify complex ideas or theories.\\n3. **Provide Recommendations**: Whether you need book suggestions, movie recommendations, or travel tips, I can assist.\\n4. **Help with Writing**: I can help with writing essays, reports, or even creative writing tasks.\\n5. **Language Translation**: I can translate text between multiple languages.\\n6. **Math Problems**: I can help solve mathematical problems or explain mathematical concepts.\\n7. **Coding Assistance**: I can assist with programming questions in various languages, such as Python, JavaScript, and more.\\n8. **Learning Resources**: I can suggest resources for learning new skills or subjects.\\n9. **General Advice**: I can offer advice on various topics, from study tips to career guidance.\\n10. **Entertainment**: I can tell jokes, share interesting facts, and even engage in small talk.\\n\\nIf you have a specific question or need assistance with something, feel free to ask!'"
      ]
     },
     "execution_count": 6,
     "metadata": {},
     "output_type": "execute_result"
    }
   ],
   "source": [
    "mistral(\"hello, what can you do?\")"
   ]
  },
  {
   "cell_type": "markdown",
   "id": "fe0f690e",
   "metadata": {},
   "source": [
    "## Classification"
   ]
  },
  {
   "cell_type": "code",
   "execution_count": 7,
   "id": "886b2422",
   "metadata": {},
   "outputs": [
    {
     "name": "stdout",
     "output_type": "stream",
     "text": [
      "You are a bank customer service bot.\n",
      "Your task is to assess customer intent and categorize the customer inquiry after <<<>>> into one of the following predefined categories:\n",
      "card arrival\n",
      "change pin\n",
      "exchange rate\n",
      "country support\n",
      "cancel transfer\n",
      "charge dispute\n",
      "If the text doesn't fit into any of the above categories,\n",
      "classify it as:\n",
      "customer service\n",
      "You will only respond with the predefined category.\n",
      "Do not provide explanations or notes.\n",
      "###\n",
      "Here are some examples:\n",
      "Inquiry: How do I know if I will get my card, or if it is lost? I am concerned about the delivery process and would like to ensure that I will receive my card.\n",
      "Category: card arrival\n",
      "Inquiry: I am planning an international trip to Paris and would like to inquire about the current exchange rates for Euros as well as any associated fees for foreign transactions.\n",
      "Category: exchange rate\n",
      "Inquiry: What countries are supported? I will be traveling and living abroad for an extended period of time, specifically in France and Germany, and would like to know about your services in those regions.\n",
      "Category: country support\n",
      "Inquiry: Can I get help starting my computer? I am having difficulty starting my computer, and would appreciate your expertise in helping me troubleshoot this issue.\n",
      "Category: customer service\n",
      "###\n",
      "<<<\n",
      "Inquiry: {inquiry}\n",
      ">>>\n",
      "Category:\n",
      "country support\n"
     ]
    }
   ],
   "source": [
    "prompt = \"\"\"\n",
    "You are a bank customer service bot.\n",
    "Your task is to assess customer intent and categorize customer\n",
    "inquiry after <<<>>> into one of the following predefined categories:\n",
    "card arrival\n",
    "change pin\n",
    "exchange rate\n",
    "country support\n",
    "cancel transfer\n",
    "charge dispute\n",
    "If the text doesn't fit into any of the above categories,\n",
    "classify it as:\n",
    "customer service\n",
    "You will only respond with the predefined category.\n",
    "Do not provide explanations or notes.\n",
    "###\n",
    "Here are some examples:\n",
    "Inquiry: How do I know if I will get my card, or if it is lost? I am concerned about the delivery process and would like to ensure that I will receive my ca\n",
    "Category: card arrival\n",
    "Inquiry: I am planning an international trip to Paris and would like to inquire about the current exchange rates for Euros as well as any associated fees fo\n",
    "Category: exchange rate\n",
    "Inquiry: What countries are getting support? I will be traveling and living abroad for an extended period of time, specifically in France and Germany, and w\n",
    "Category: country support\n",
    "Inquiry: Can I get help starting my computer? I am having difficulty starting my computer, and would appreciate your expertise in helping me troubleshoot th\n",
    "Category: customer service\n",
    "###\n",
    "<<<\n",
    "Inquiry: {inquiry}\n",
    ">>>\n",
    "Category:\n",
    "\"\"\"\n",
    "\n",
    "# Correct spelling and grammar\n",
    "response = mistral(f\"Please correct the spelling and grammar of this prompt and return a text that is the same prompt, with the spelling and grammar fixed: {prompt}\")\n",
    "print(response)\n",
    "\n",
    "# Try out the model\n",
    "print(mistral(response.format(inquiry=\"I am inquiring about the availability of your cards in the EU\")))\n"
   ]
  },
  {
   "cell_type": "markdown",
   "id": "46222fad",
   "metadata": {},
   "source": [
    "## Information Extraction with JSON Mode\n",
    "\n"
   ]
  },
  {
   "cell_type": "code",
   "execution_count": 8,
   "id": "2263739e",
   "metadata": {},
   "outputs": [
    {
     "name": "stdout",
     "output_type": "stream",
     "text": [
      "```json\n",
      "{\n",
      "  \"age\": 60,\n",
      "  \"gender\": \"male\",\n",
      "  \"diagnosis\": \"diabetes\",\n",
      "  \"weight\": 210,\n",
      "  \"smoking\": \"yes\"\n",
      "}\n",
      "```\n"
     ]
    }
   ],
   "source": [
    "medical_notes = \"\"\"\n",
    "A 60-year-old male patient, Mr. Johnson, presented with symptoms\n",
    "of increased thirst, frequent urination, fatigue, and unexplained\n",
    "weight loss. Upon evaluation, he was diagnosed with diabetes,\n",
    "confirmed by elevated blood sugar levels. Mr. Johnson's weight\n",
    "is 210 lbs. He has been prescribed Metformin to be taken twice daily\n",
    "with meals. It was noted during the consultation that the patient is\n",
    "a current smoker.\n",
    "\"\"\"\n",
    "\n",
    "prompt = f\"\"\"\n",
    "Extract information from the following medical notes:\n",
    "{medical_notes}\n",
    "Return json format with the following JSON schema:\n",
    "{{\n",
    "\"age\": {{\n",
    "\"type\": \"integer\"\n",
    "}},\n",
    "\"gender\": {{\n",
    "\"type\": \"string\",\n",
    "\"enum\": [\"male\", \"female\", \"other\"]\n",
    "}},\n",
    "\"diagnosis\": {{\n",
    "\"type\": \"string\",\n",
    "\"enum\": [\"migraine\", \"diabetes\", \"arthritis\", \"acne\"]\n",
    "}},\n",
    "\"weight\": {{\n",
    "\"type\": \"integer\"\n",
    "}},\n",
    "\"smoking\": {{\n",
    "\"type\": \"string\",\n",
    "\"enum\": [\"yes\", \"no\"]\n",
    "}}\n",
    "}}\n",
    "\"\"\"\n",
    "\n",
    "response = mistral(prompt, is_json=True)\n",
    "print(response)\n"
   ]
  },
  {
   "cell_type": "markdown",
   "id": "fb83ee6d",
   "metadata": {},
   "source": [
    "## Personalization\n",
    "\n"
   ]
  },
  {
   "cell_type": "code",
   "execution_count": 9,
   "id": "876cec39",
   "metadata": {},
   "outputs": [
    {
     "name": "stdout",
     "output_type": "stream",
     "text": [
      "Dear Anna,\n",
      "\n",
      "Thank you for reaching out to us regarding our mortgage rates.\n",
      "\n",
      "Our 30-year fixed-rate mortgage has an Annual Percentage Rate (APR) of 6.484%. In comparison, our 15-year fixed-rate mortgage has an APR of 5.848%.\n",
      "\n",
      "If you have any further questions or need additional information, please feel free to contact us.\n",
      "\n",
      "Best regards,\n",
      "\n",
      "Lender Customer Support\n"
     ]
    }
   ],
   "source": [
    "email = \"\"\"\n",
    "Dear mortgage lender,\n",
    "What's your 30-year fixed-rate APR, how is it compared to the 15-year\n",
    "fixed rate?\n",
    "Regards,\n",
    "Anna\n",
    "\"\"\"\n",
    "\n",
    "prompt = f\"\"\"\n",
    "You are a mortgage lender customer service bot, and your task is to\n",
    "create personalized email responses to address customer questions.\n",
    "Answer the customer's inquiry using the provided facts below. Ensure\n",
    "that your response is clear, concise, and directly addresses the\n",
    "customer's question. Address the customer in a friendly and\n",
    "professional manner. Sign the email with \"Lender Customer Support.\"\n",
    "# Facts\n",
    "30-year fixed-rate: interest rate 6.403%, APR 6.484%\n",
    "20-year fixed-rate: interest rate 6.329%, APR 6.429%\n",
    "15-year fixed-rate: interest rate 5.705%, APR 5.848%\n",
    "10-year fixed-rate: interest rate 5.500%, APR 5.720%\n",
    "7-year ARM: interest rate 7.011%, APR 7.660%\n",
    "5-year ARM: interest rate 6.880%, APR 7.754%\n",
    "3-year ARM: interest rate 6.125%, APR 7.204%\n",
    "30-year fixed-rate FHA: interest rate 5.527%, APR 6.316%\n",
    "30-year fixed-rate VA: interest rate 5.684%, APR 6.062%\n",
    "# Email\n",
    "{email}\n",
    "\"\"\"\n",
    "\n",
    "response = mistral(prompt)\n",
    "print(response)\n"
   ]
  },
  {
   "cell_type": "markdown",
   "id": "1acf622f",
   "metadata": {},
   "source": [
    "## Summarization Task\n",
    "\n"
   ]
  },
  {
   "cell_type": "code",
   "execution_count": 10,
   "id": "114d80da",
   "metadata": {},
   "outputs": [
    {
     "name": "stdout",
     "output_type": "stream",
     "text": [
      "# Newsletter Report\n",
      "\n",
      "## Summary\n",
      "\n",
      "Mistral AI, a European AI company, has introduced two new large language models: Mistral Large and Mistral Small. These models join Mistral Medium, which was quietly released last year. The new models are proficient in multiple European languages and are trained for function calling and JSON-format output. Mistral Large has shown impressive performance on the MMLU benchmark, surpassing models from competitors like Anthropic, Google, and Meta.\n",
      "\n",
      "Microsoft has invested in Mistral AI, forming a strategic alliance. This partnership aims to train bespoke models for customers, including European governments. The collaboration has, however, sparked debate among European lawmakers and regulators, particularly due to ongoing investigations into Microsoft by the European Commission. Despite the controversy, the alliance provides Mistral AI with crucial processing power and broader market access, cementing its position as a significant player in the AI landscape.\n",
      "\n",
      "## Interesting Questions\n",
      "\n",
      "### Q1: What are the potential implications of Mistral AI's new models being trained for function calling and JSON-format output?\n",
      "\n",
      "**A1:** The training for function calling and JSON-format output suggests that Mistral AI is focusing on practical applications and integration with other systems. Function calling allows models to interact with external systems, such as databases or APIs, which can enhance their utility in real-world scenarios. JSON-format output ensures that the models can easily integrate with various software applications, making them more versatile and user-friendly. This focus on practicality could make Mistral AI's models more attractive to businesses and governments looking for AI solutions that can be seamlessly integrated into existing systems.\n",
      "\n",
      "**<** The implications are that Mistral AI's models are designed for practical applications and easy integration, making them more attractive to businesses and governments. **>**\n",
      "\n",
      "### Q2: How might the partnership between Mistral AI and Microsoft affect the European AI landscape?\n",
      "\n",
      "**A2:** The partnership between Mistral AI and Microsoft could significantly influence the European AI landscape in several ways. Firstly, it provides Mistral AI with the necessary resources and processing power to compete with larger AI companies like Google and OpenAI. Secondly, the collaboration could lead to the development of bespoke models tailored to the needs of European governments and businesses, enhancing European competitiveness in AI. However, the partnership has also raised concerns among European regulators, who are already investigating Microsoft for potential anti-competitive practices. This could lead to increased scrutiny and potential regulatory challenges for both companies.\n",
      "\n",
      "**<** The partnership could enhance European competitiveness in AI but also raises regulatory concerns. **>**\n",
      "\n",
      "### Q3: What are the potential benefits and drawbacks of Mistral AI's focus on European languages?\n",
      "\n",
      "**A3:** Mistral AI's proficiency in multiple European languages could be a significant advantage in the European market. It allows the models to be more relevant and useful to a broader range of users, including those in non-English speaking countries. This linguistic diversity could also make Mistral AI's models more appealing to European governments and businesses looking for AI solutions that cater to their specific language needs. However, focusing on European languages might limit the models' global appeal, as they may not perform as well in languages outside of Europe. This could potentially restrict Mistral AI's market reach and competitiveness on a global scale.\n",
      "\n",
      "**<** The focus on European languages enhances local appeal but may limit global market reach. **>**\n",
      "\n",
      "## Analysis Report\n",
      "\n",
      "### Mistral AI's New Models and Strategic Partnership with Microsoft\n",
      "\n",
      "#### Introduction\n",
      "\n",
      "Mistral AI, a European AI startup, has recently unveiled two new large language models: Mistral Large and Mistral Small. These models, along with Mistral Medium, are designed to be proficient in multiple European languages and are trained for function calling and JSON-format output. The company has also formed a strategic alliance with Microsoft, which has invested significantly in Mistral AI. This report analyzes the implications of these developments and their potential impact on the European AI landscape.\n",
      "\n",
      "#### Model Specifications and Performance\n",
      "\n",
      "Mistral AI's new models, Mistral Large and Mistral Small, join the previously released Mistral Medium. While the specific details of their parameter counts, architectures, and training methods are undisclosed, Mistral Large has shown impressive performance on the MMLU benchmark. It outperformed models from competitors like Anthropic, Google, and Meta, although it fell short of the top performers.\n",
      "\n",
      "The models' proficiency in French, German, Spanish, and Italian, as well as their training for function calling and JSON-format output, suggests a focus on practical applications and easy integration. This makes them more attractive to businesses and governments looking for AI solutions that can be seamlessly integrated into existing systems.\n",
      "\n",
      "#### Partnership with Microsoft\n",
      "\n",
      "Microsoft's investment in Mistral AI is significant, although it is smaller compared to its stake in OpenAI and investments in Anthropic by Google and Amazon. The partnership aims to train bespoke models for customers, including European governments. This collaboration could enhance European competitiveness in AI by providing the necessary resources and processing power to compete with larger AI companies.\n",
      "\n",
      "However, the partnership has also raised concerns among European regulators, who are already investigating Microsoft for potential anti-competitive practices. This could lead to increased scrutiny and potential regulatory challenges for both companies.\n",
      "\n",
      "#### Implications for the European AI Landscape\n",
      "\n",
      "The partnership between Mistral AI and Microsoft could significantly influence the European AI landscape. It provides Mistral AI with the necessary resources to compete with larger AI companies and could lead to the development of bespoke models tailored to the needs of European governments and businesses. However, the regulatory concerns raised by the partnership could pose challenges for both companies.\n",
      "\n",
      "Mistral AI's focus on European languages could be a significant advantage in the European market, making the models more relevant and useful to a broader range of users. However, this focus might limit the models' global appeal, potentially restricting Mistral AI's market reach and competitiveness on a global scale.\n",
      "\n",
      "#### Conclusion\n",
      "\n",
      "Mistral AI's new models and strategic partnership with Microsoft represent significant developments in the European AI landscape. The models' proficiency in multiple European languages and their training for practical applications make them attractive to businesses and governments. The partnership with Microsoft provides Mistral AI with the necessary resources to compete with larger AI companies, although it also raises regulatory concerns. Overall, these developments could enhance European competitiveness in AI, but they also present challenges that need to be addressed.\n"
     ]
    }
   ],
   "source": [
    "newsletter = \"\"\"\n",
    "European AI champion Mistral AI unveiled new large language models and formed an alliance with Microsoft.\n",
    "What’s new: Mistral AI introduced two closed models, Mistral Large and Mistral Small (joining Mistral Medium, which debuted quietly late last year). Microsoft i\n",
    "Model specs: The new models’ parameter counts, architectures, and training methods are undisclosed. Like the earlier, open source Mistral 7B and Mixtral 8x7B, t\n",
    "Mistral Large achieved 81.2 percent on the MMLU benchmark, outperforming Anthropic’s Claude 2, Google’s Gemini Pro, and Meta’s Llama 2 70B, though falling short\n",
    "Both models are fluent in French, German, Spanish, and Italian. They’re trained for function calling and JSON-format output.\n",
    "Microsoft’s investment in Mistral AI is significant but tiny compared to its $13 billion stake in OpenAI and Google and Amazon’s investments in Anthropic, which\n",
    "Mistral AI and Microsoft will collaborate to train bespoke models for customers including European governments.\n",
    "Behind the news: Mistral AI was founded in early 2023 by engineers from Google and Meta. The French government has touted the company as a home-grown competitor\n",
    "Yes, but: Mistral AI’s partnership with Microsoft has divided European lawmakers and regulators. The European Commission, which already was investigating Micros\n",
    "Why it matters: The partnership between Mistral AI and Microsoft gives the startup crucial processing power for training large models and greater access to pote\n",
    "We’re thinking: Mistral AI has made impressive progress in a short time, especially relative to the resources at its disposal as a startup. Its partnership with\n",
    "\"\"\"\n",
    "\n",
    "prompt = f\"\"\"\n",
    "You are a commentator. Your task is to write a report on a newsletter.\n",
    "When presented with the newsletter, come up with interesting questions to ask,\n",
    "and answer each question.\n",
    "Afterward, combine all the information and write a report in the markdown\n",
    "format.\n",
    "# Newsletter:\n",
    "{newsletter}\n",
    "# Instructions:\n",
    "## Summarize:\n",
    "In clear and concise language, summarize the key points and themes\n",
    "presented in the newsletter.\n",
    "## Interesting Questions:\n",
    "Generate three distinct and thought-provoking questions that can be\n",
    "asked about the content of the newsletter. For each question:\n",
    "- After \"Q: \", describe the problem\n",
    "- After \"A: \", provide a detailed explanation of the problem addressed\n",
    "in the question.\n",
    "- Enclose the ultimate answer in <>.\n",
    "## Write a analysis report\n",
    "Using the summary and the answers to the interesting questions,\n",
    "create a comprehensive report in Markdown format.\n",
    "\"\"\"\n",
    "\n",
    "response = mistral(prompt)\n",
    "print(response)\n"
   ]
  },
  {
   "cell_type": "code",
   "execution_count": null,
   "id": "8f391165",
   "metadata": {},
   "outputs": [],
   "source": []
  }
 ],
 "metadata": {
  "kernelspec": {
   "display_name": "Python 3 (ipykernel)",
   "language": "python",
   "name": "python3"
  },
  "language_info": {
   "codemirror_mode": {
    "name": "ipython",
    "version": 3
   },
   "file_extension": ".py",
   "mimetype": "text/x-python",
   "name": "python",
   "nbconvert_exporter": "python",
   "pygments_lexer": "ipython3",
   "version": "3.12.0"
  }
 },
 "nbformat": 4,
 "nbformat_minor": 5
}
